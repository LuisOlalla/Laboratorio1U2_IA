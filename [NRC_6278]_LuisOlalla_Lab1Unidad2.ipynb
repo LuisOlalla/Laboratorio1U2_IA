{
 "cells": [
  {
   "cell_type": "markdown",
   "id": "8b6f603c",
   "metadata": {},
   "source": [
    "<center><h1>Técnicas de Inteligencia Artificial</header1></center>"
   ]
  },
  {
   "cell_type": "markdown",
   "id": "3eb1aaac",
   "metadata": {},
   "source": [
    "Presentado por: Luis Miguel Olalla Chuque <br>\n",
    "Fecha: 17/07/2022"
   ]
  },
  {
   "cell_type": "markdown",
   "id": "1dec299b",
   "metadata": {
    "ExecuteTime": {
     "end_time": "2022-03-14T15:14:04.930713Z",
     "start_time": "2022-03-14T15:14:04.921682Z"
    }
   },
   "source": [
    "# Importación de librerias necesarias"
   ]
  },
  {
   "cell_type": "code",
   "execution_count": 36,
   "id": "6d1abf7a",
   "metadata": {
    "ExecuteTime": {
     "end_time": "2022-03-14T15:14:46.228059Z",
     "start_time": "2022-03-14T15:14:46.223108Z"
    }
   },
   "outputs": [],
   "source": [
    "#Para esta actividad se importarán las siguientes librerías:\n",
    "import pandas as pd\n",
    "#Importar liberia numpy\n",
    "import numpy as np\n",
    "#importamos libreria de entrenamiento y prueba\n",
    "from sklearn.model_selection import train_test_split\n",
    "#liberia para realizar funciones metricas\n",
    "from sklearn import metrics\n",
    "#Libreria para realizar regresion lineal\n",
    "from sklearn.linear_model import LinearRegression \n",
    "#Libreria para realizar graficos estadisticos\n",
    "import matplotlib.pyplot as plt\n",
    "#Liberia para el LabelEncoding\n",
    "from sklearn.preprocessing import LabelEncoder"
   ]
  },
  {
   "cell_type": "markdown",
   "id": "6a44b924",
   "metadata": {},
   "source": [
    "## Cargar el Dataset"
   ]
  },
  {
   "cell_type": "code",
   "execution_count": 37,
   "id": "3541e808",
   "metadata": {},
   "outputs": [],
   "source": [
    "\n",
    "#Código para cargar el Dataset\n",
    "fish=pd.read_csv('Fish.csv')"
   ]
  },
  {
   "cell_type": "code",
   "execution_count": 38,
   "id": "0afe71c3",
   "metadata": {},
   "outputs": [],
   "source": [
    "#crear dataframe para realizar operaciones aritméticas\n",
    "df =pd.DataFrame(fish)"
   ]
  },
  {
   "cell_type": "code",
   "execution_count": 39,
   "id": "94f2d8b5",
   "metadata": {},
   "outputs": [
    {
     "data": {
      "text/html": [
       "<div>\n",
       "<style scoped>\n",
       "    .dataframe tbody tr th:only-of-type {\n",
       "        vertical-align: middle;\n",
       "    }\n",
       "\n",
       "    .dataframe tbody tr th {\n",
       "        vertical-align: top;\n",
       "    }\n",
       "\n",
       "    .dataframe thead th {\n",
       "        text-align: right;\n",
       "    }\n",
       "</style>\n",
       "<table border=\"1\" class=\"dataframe\">\n",
       "  <thead>\n",
       "    <tr style=\"text-align: right;\">\n",
       "      <th></th>\n",
       "      <th>Species</th>\n",
       "      <th>Weight</th>\n",
       "      <th>Length1</th>\n",
       "      <th>Length2</th>\n",
       "      <th>Length3</th>\n",
       "      <th>Height</th>\n",
       "      <th>Width</th>\n",
       "    </tr>\n",
       "  </thead>\n",
       "  <tbody>\n",
       "    <tr>\n",
       "      <th>0</th>\n",
       "      <td>Bream</td>\n",
       "      <td>242.0</td>\n",
       "      <td>23.2</td>\n",
       "      <td>25.4</td>\n",
       "      <td>30.0</td>\n",
       "      <td>11.5200</td>\n",
       "      <td>4.0200</td>\n",
       "    </tr>\n",
       "    <tr>\n",
       "      <th>1</th>\n",
       "      <td>Bream</td>\n",
       "      <td>290.0</td>\n",
       "      <td>24.0</td>\n",
       "      <td>26.3</td>\n",
       "      <td>31.2</td>\n",
       "      <td>12.4800</td>\n",
       "      <td>4.3056</td>\n",
       "    </tr>\n",
       "    <tr>\n",
       "      <th>2</th>\n",
       "      <td>Bream</td>\n",
       "      <td>340.0</td>\n",
       "      <td>23.9</td>\n",
       "      <td>26.5</td>\n",
       "      <td>31.1</td>\n",
       "      <td>12.3778</td>\n",
       "      <td>4.6961</td>\n",
       "    </tr>\n",
       "    <tr>\n",
       "      <th>3</th>\n",
       "      <td>Bream</td>\n",
       "      <td>363.0</td>\n",
       "      <td>26.3</td>\n",
       "      <td>29.0</td>\n",
       "      <td>33.5</td>\n",
       "      <td>12.7300</td>\n",
       "      <td>4.4555</td>\n",
       "    </tr>\n",
       "    <tr>\n",
       "      <th>4</th>\n",
       "      <td>Bream</td>\n",
       "      <td>430.0</td>\n",
       "      <td>26.5</td>\n",
       "      <td>29.0</td>\n",
       "      <td>34.0</td>\n",
       "      <td>12.4440</td>\n",
       "      <td>5.1340</td>\n",
       "    </tr>\n",
       "    <tr>\n",
       "      <th>5</th>\n",
       "      <td>Bream</td>\n",
       "      <td>450.0</td>\n",
       "      <td>26.8</td>\n",
       "      <td>29.7</td>\n",
       "      <td>34.7</td>\n",
       "      <td>13.6024</td>\n",
       "      <td>4.9274</td>\n",
       "    </tr>\n",
       "    <tr>\n",
       "      <th>6</th>\n",
       "      <td>Bream</td>\n",
       "      <td>500.0</td>\n",
       "      <td>26.8</td>\n",
       "      <td>29.7</td>\n",
       "      <td>34.5</td>\n",
       "      <td>14.1795</td>\n",
       "      <td>5.2785</td>\n",
       "    </tr>\n",
       "    <tr>\n",
       "      <th>7</th>\n",
       "      <td>Bream</td>\n",
       "      <td>390.0</td>\n",
       "      <td>27.6</td>\n",
       "      <td>30.0</td>\n",
       "      <td>35.0</td>\n",
       "      <td>12.6700</td>\n",
       "      <td>4.6900</td>\n",
       "    </tr>\n",
       "    <tr>\n",
       "      <th>8</th>\n",
       "      <td>Bream</td>\n",
       "      <td>450.0</td>\n",
       "      <td>27.6</td>\n",
       "      <td>30.0</td>\n",
       "      <td>35.1</td>\n",
       "      <td>14.0049</td>\n",
       "      <td>4.8438</td>\n",
       "    </tr>\n",
       "    <tr>\n",
       "      <th>9</th>\n",
       "      <td>Bream</td>\n",
       "      <td>500.0</td>\n",
       "      <td>28.5</td>\n",
       "      <td>30.7</td>\n",
       "      <td>36.2</td>\n",
       "      <td>14.2266</td>\n",
       "      <td>4.9594</td>\n",
       "    </tr>\n",
       "  </tbody>\n",
       "</table>\n",
       "</div>"
      ],
      "text/plain": [
       "  Species  Weight  Length1  Length2  Length3   Height   Width\n",
       "0   Bream   242.0     23.2     25.4     30.0  11.5200  4.0200\n",
       "1   Bream   290.0     24.0     26.3     31.2  12.4800  4.3056\n",
       "2   Bream   340.0     23.9     26.5     31.1  12.3778  4.6961\n",
       "3   Bream   363.0     26.3     29.0     33.5  12.7300  4.4555\n",
       "4   Bream   430.0     26.5     29.0     34.0  12.4440  5.1340\n",
       "5   Bream   450.0     26.8     29.7     34.7  13.6024  4.9274\n",
       "6   Bream   500.0     26.8     29.7     34.5  14.1795  5.2785\n",
       "7   Bream   390.0     27.6     30.0     35.0  12.6700  4.6900\n",
       "8   Bream   450.0     27.6     30.0     35.1  14.0049  4.8438\n",
       "9   Bream   500.0     28.5     30.7     36.2  14.2266  4.9594"
      ]
     },
     "execution_count": 39,
     "metadata": {},
     "output_type": "execute_result"
    }
   ],
   "source": [
    "\n",
    "#Los 10 primeros registros del dataset\n",
    "df.head(10)\n"
   ]
  },
  {
   "cell_type": "code",
   "execution_count": 40,
   "id": "f1010614",
   "metadata": {},
   "outputs": [],
   "source": [
    "#Label Encoding para transformar el atributo de species\n",
    "encoder = LabelEncoder()"
   ]
  },
  {
   "cell_type": "code",
   "execution_count": 41,
   "id": "1b7273df",
   "metadata": {},
   "outputs": [],
   "source": [
    "#Tranformar la variable species\n",
    "fish[\"Species\"] = encoder.fit_transform(fish[\"Species\"])"
   ]
  },
  {
   "cell_type": "code",
   "execution_count": 42,
   "id": "aa0d7999",
   "metadata": {},
   "outputs": [
    {
     "data": {
      "text/html": [
       "<div>\n",
       "<style scoped>\n",
       "    .dataframe tbody tr th:only-of-type {\n",
       "        vertical-align: middle;\n",
       "    }\n",
       "\n",
       "    .dataframe tbody tr th {\n",
       "        vertical-align: top;\n",
       "    }\n",
       "\n",
       "    .dataframe thead th {\n",
       "        text-align: right;\n",
       "    }\n",
       "</style>\n",
       "<table border=\"1\" class=\"dataframe\">\n",
       "  <thead>\n",
       "    <tr style=\"text-align: right;\">\n",
       "      <th></th>\n",
       "      <th>Species</th>\n",
       "      <th>Weight</th>\n",
       "      <th>Length1</th>\n",
       "      <th>Length2</th>\n",
       "      <th>Length3</th>\n",
       "      <th>Height</th>\n",
       "      <th>Width</th>\n",
       "    </tr>\n",
       "  </thead>\n",
       "  <tbody>\n",
       "    <tr>\n",
       "      <th>count</th>\n",
       "      <td>159.000000</td>\n",
       "      <td>159.000000</td>\n",
       "      <td>159.000000</td>\n",
       "      <td>159.000000</td>\n",
       "      <td>159.000000</td>\n",
       "      <td>159.000000</td>\n",
       "      <td>159.000000</td>\n",
       "    </tr>\n",
       "    <tr>\n",
       "      <th>mean</th>\n",
       "      <td>2.264151</td>\n",
       "      <td>398.326415</td>\n",
       "      <td>26.247170</td>\n",
       "      <td>28.415723</td>\n",
       "      <td>31.227044</td>\n",
       "      <td>8.970994</td>\n",
       "      <td>4.417486</td>\n",
       "    </tr>\n",
       "    <tr>\n",
       "      <th>std</th>\n",
       "      <td>1.704249</td>\n",
       "      <td>357.978317</td>\n",
       "      <td>9.996441</td>\n",
       "      <td>10.716328</td>\n",
       "      <td>11.610246</td>\n",
       "      <td>4.286208</td>\n",
       "      <td>1.685804</td>\n",
       "    </tr>\n",
       "    <tr>\n",
       "      <th>min</th>\n",
       "      <td>0.000000</td>\n",
       "      <td>0.000000</td>\n",
       "      <td>7.500000</td>\n",
       "      <td>8.400000</td>\n",
       "      <td>8.800000</td>\n",
       "      <td>1.728400</td>\n",
       "      <td>1.047600</td>\n",
       "    </tr>\n",
       "    <tr>\n",
       "      <th>25%</th>\n",
       "      <td>1.000000</td>\n",
       "      <td>120.000000</td>\n",
       "      <td>19.050000</td>\n",
       "      <td>21.000000</td>\n",
       "      <td>23.150000</td>\n",
       "      <td>5.944800</td>\n",
       "      <td>3.385650</td>\n",
       "    </tr>\n",
       "    <tr>\n",
       "      <th>50%</th>\n",
       "      <td>2.000000</td>\n",
       "      <td>273.000000</td>\n",
       "      <td>25.200000</td>\n",
       "      <td>27.300000</td>\n",
       "      <td>29.400000</td>\n",
       "      <td>7.786000</td>\n",
       "      <td>4.248500</td>\n",
       "    </tr>\n",
       "    <tr>\n",
       "      <th>75%</th>\n",
       "      <td>3.500000</td>\n",
       "      <td>650.000000</td>\n",
       "      <td>32.700000</td>\n",
       "      <td>35.500000</td>\n",
       "      <td>39.650000</td>\n",
       "      <td>12.365900</td>\n",
       "      <td>5.584500</td>\n",
       "    </tr>\n",
       "    <tr>\n",
       "      <th>max</th>\n",
       "      <td>6.000000</td>\n",
       "      <td>1650.000000</td>\n",
       "      <td>59.000000</td>\n",
       "      <td>63.400000</td>\n",
       "      <td>68.000000</td>\n",
       "      <td>18.957000</td>\n",
       "      <td>8.142000</td>\n",
       "    </tr>\n",
       "  </tbody>\n",
       "</table>\n",
       "</div>"
      ],
      "text/plain": [
       "          Species       Weight     Length1     Length2     Length3  \\\n",
       "count  159.000000   159.000000  159.000000  159.000000  159.000000   \n",
       "mean     2.264151   398.326415   26.247170   28.415723   31.227044   \n",
       "std      1.704249   357.978317    9.996441   10.716328   11.610246   \n",
       "min      0.000000     0.000000    7.500000    8.400000    8.800000   \n",
       "25%      1.000000   120.000000   19.050000   21.000000   23.150000   \n",
       "50%      2.000000   273.000000   25.200000   27.300000   29.400000   \n",
       "75%      3.500000   650.000000   32.700000   35.500000   39.650000   \n",
       "max      6.000000  1650.000000   59.000000   63.400000   68.000000   \n",
       "\n",
       "           Height       Width  \n",
       "count  159.000000  159.000000  \n",
       "mean     8.970994    4.417486  \n",
       "std      4.286208    1.685804  \n",
       "min      1.728400    1.047600  \n",
       "25%      5.944800    3.385650  \n",
       "50%      7.786000    4.248500  \n",
       "75%     12.365900    5.584500  \n",
       "max     18.957000    8.142000  "
      ]
     },
     "execution_count": 42,
     "metadata": {},
     "output_type": "execute_result"
    }
   ],
   "source": [
    "#desplegar la descripción del dataset\n",
    "df.describe()"
   ]
  },
  {
   "cell_type": "code",
   "execution_count": 44,
   "id": "52dbf9e5",
   "metadata": {},
   "outputs": [
    {
     "data": {
      "text/html": [
       "<div>\n",
       "<style scoped>\n",
       "    .dataframe tbody tr th:only-of-type {\n",
       "        vertical-align: middle;\n",
       "    }\n",
       "\n",
       "    .dataframe tbody tr th {\n",
       "        vertical-align: top;\n",
       "    }\n",
       "\n",
       "    .dataframe thead th {\n",
       "        text-align: right;\n",
       "    }\n",
       "</style>\n",
       "<table border=\"1\" class=\"dataframe\">\n",
       "  <thead>\n",
       "    <tr style=\"text-align: right;\">\n",
       "      <th></th>\n",
       "      <th>Species</th>\n",
       "      <th>Weight</th>\n",
       "      <th>Length1</th>\n",
       "      <th>Length2</th>\n",
       "      <th>Length3</th>\n",
       "      <th>Height</th>\n",
       "      <th>Width</th>\n",
       "    </tr>\n",
       "  </thead>\n",
       "  <tbody>\n",
       "    <tr>\n",
       "      <th>0</th>\n",
       "      <td>0</td>\n",
       "      <td>242.0</td>\n",
       "      <td>23.2</td>\n",
       "      <td>25.4</td>\n",
       "      <td>30.0</td>\n",
       "      <td>11.5200</td>\n",
       "      <td>4.0200</td>\n",
       "    </tr>\n",
       "    <tr>\n",
       "      <th>1</th>\n",
       "      <td>0</td>\n",
       "      <td>290.0</td>\n",
       "      <td>24.0</td>\n",
       "      <td>26.3</td>\n",
       "      <td>31.2</td>\n",
       "      <td>12.4800</td>\n",
       "      <td>4.3056</td>\n",
       "    </tr>\n",
       "    <tr>\n",
       "      <th>2</th>\n",
       "      <td>0</td>\n",
       "      <td>340.0</td>\n",
       "      <td>23.9</td>\n",
       "      <td>26.5</td>\n",
       "      <td>31.1</td>\n",
       "      <td>12.3778</td>\n",
       "      <td>4.6961</td>\n",
       "    </tr>\n",
       "    <tr>\n",
       "      <th>3</th>\n",
       "      <td>0</td>\n",
       "      <td>363.0</td>\n",
       "      <td>26.3</td>\n",
       "      <td>29.0</td>\n",
       "      <td>33.5</td>\n",
       "      <td>12.7300</td>\n",
       "      <td>4.4555</td>\n",
       "    </tr>\n",
       "    <tr>\n",
       "      <th>4</th>\n",
       "      <td>0</td>\n",
       "      <td>430.0</td>\n",
       "      <td>26.5</td>\n",
       "      <td>29.0</td>\n",
       "      <td>34.0</td>\n",
       "      <td>12.4440</td>\n",
       "      <td>5.1340</td>\n",
       "    </tr>\n",
       "    <tr>\n",
       "      <th>5</th>\n",
       "      <td>0</td>\n",
       "      <td>450.0</td>\n",
       "      <td>26.8</td>\n",
       "      <td>29.7</td>\n",
       "      <td>34.7</td>\n",
       "      <td>13.6024</td>\n",
       "      <td>4.9274</td>\n",
       "    </tr>\n",
       "    <tr>\n",
       "      <th>6</th>\n",
       "      <td>0</td>\n",
       "      <td>500.0</td>\n",
       "      <td>26.8</td>\n",
       "      <td>29.7</td>\n",
       "      <td>34.5</td>\n",
       "      <td>14.1795</td>\n",
       "      <td>5.2785</td>\n",
       "    </tr>\n",
       "    <tr>\n",
       "      <th>7</th>\n",
       "      <td>0</td>\n",
       "      <td>390.0</td>\n",
       "      <td>27.6</td>\n",
       "      <td>30.0</td>\n",
       "      <td>35.0</td>\n",
       "      <td>12.6700</td>\n",
       "      <td>4.6900</td>\n",
       "    </tr>\n",
       "    <tr>\n",
       "      <th>8</th>\n",
       "      <td>0</td>\n",
       "      <td>450.0</td>\n",
       "      <td>27.6</td>\n",
       "      <td>30.0</td>\n",
       "      <td>35.1</td>\n",
       "      <td>14.0049</td>\n",
       "      <td>4.8438</td>\n",
       "    </tr>\n",
       "    <tr>\n",
       "      <th>9</th>\n",
       "      <td>0</td>\n",
       "      <td>500.0</td>\n",
       "      <td>28.5</td>\n",
       "      <td>30.7</td>\n",
       "      <td>36.2</td>\n",
       "      <td>14.2266</td>\n",
       "      <td>4.9594</td>\n",
       "    </tr>\n",
       "  </tbody>\n",
       "</table>\n",
       "</div>"
      ],
      "text/plain": [
       "   Species  Weight  Length1  Length2  Length3   Height   Width\n",
       "0        0   242.0     23.2     25.4     30.0  11.5200  4.0200\n",
       "1        0   290.0     24.0     26.3     31.2  12.4800  4.3056\n",
       "2        0   340.0     23.9     26.5     31.1  12.3778  4.6961\n",
       "3        0   363.0     26.3     29.0     33.5  12.7300  4.4555\n",
       "4        0   430.0     26.5     29.0     34.0  12.4440  5.1340\n",
       "5        0   450.0     26.8     29.7     34.7  13.6024  4.9274\n",
       "6        0   500.0     26.8     29.7     34.5  14.1795  5.2785\n",
       "7        0   390.0     27.6     30.0     35.0  12.6700  4.6900\n",
       "8        0   450.0     27.6     30.0     35.1  14.0049  4.8438\n",
       "9        0   500.0     28.5     30.7     36.2  14.2266  4.9594"
      ]
     },
     "execution_count": 44,
     "metadata": {},
     "output_type": "execute_result"
    }
   ],
   "source": [
    "#Ver los 10 registros con la variable species transformada\n",
    "df.head(10)"
   ]
  },
  {
   "cell_type": "markdown",
   "id": "93c30410",
   "metadata": {},
   "source": [
    "## Descripción de la fuente del Dataset"
   ]
  },
  {
   "cell_type": "markdown",
   "id": "db6174bc",
   "metadata": {},
   "source": [
    "El dataset presentado tiene 159 registros de tipos de peces para la venta en el mercado. El dataset cuenta con 6 columnas o atributos de los cuales se tiene como variable objetivo el peso de los peces **(weight)**. Y como variables de entrada se tienen las siguientes:\n",
    "\n",
    "**Variables independientes o variables de entrada X**\n",
    "\n",
    "**Species:** Variable Categórica, Nombre de cada especie a la que pertenecen los peces.\n",
    "\n",
    "**Length1:** Variable Continua, Longitud vertical en centímetros del pescado.\n",
    "\n",
    "**Length2:** Variable Continua, Longitud diagonal en centímetros del pescado.\n",
    "\n",
    "**Length3:** Variable Continua, Longitud de la cruz en centímetros del pescado.\n",
    "\n",
    "**Height:** Variable Continua, Altura en centímetros del pescado.\n",
    "\n",
    "**Width:** Variable Continua, Anchura diagonal en centímetros del pescado.\n",
    "\n",
    "\n",
    "**Variable dependiente o variable objetivo Y**\n",
    "\n",
    "**Weight:** Variable Continua, Peso en gramos de cada uno de los pescados."
   ]
  },
  {
   "cell_type": "markdown",
   "id": "7f868eab",
   "metadata": {},
   "source": [
    "## Explique el problema a resolver. \n",
    "\n",
    "Se pretende realizar un modelo de predicción en donde se requiere estimar a los peces con mejor peso. Se hará uso del dataset Fish el cual contiene 159 samples de cada atributo. Se tiene a la variable objetivo Weight y las variables de entrada que se van a utilizar en el proceso de regresión."
   ]
  },
  {
   "cell_type": "markdown",
   "id": "a0b719c1",
   "metadata": {},
   "source": [
    "## Caracterización del Dataset\n",
    "\n",
    "Realice una descripción de los datos con:\n",
    "\n",
    ">- Número de instancias en total.\n",
    ">- Número de atributos de entrada, su significado y tipo.\n",
    ">- Estadísticas de la variable objetivo.\n",
    ">- Estadísticas los atributos en relación con la variable objetivo.\n"
   ]
  },
  {
   "cell_type": "markdown",
   "id": "7c654833",
   "metadata": {},
   "source": [
    "**Número de instancias en total.**\n"
   ]
  },
  {
   "cell_type": "code",
   "execution_count": 6,
   "id": "c11c6279",
   "metadata": {},
   "outputs": [
    {
     "data": {
      "text/plain": [
       "Species    159\n",
       "Weight     159\n",
       "Length1    159\n",
       "Length2    159\n",
       "Length3    159\n",
       "Height     159\n",
       "Width      159\n",
       "dtype: int64"
      ]
     },
     "execution_count": 6,
     "metadata": {},
     "output_type": "execute_result"
    }
   ],
   "source": [
    "#Contrar los registros de los peces del dataset\n",
    "df.count()"
   ]
  },
  {
   "cell_type": "markdown",
   "id": "3c4e4006",
   "metadata": {},
   "source": [
    "**Número de atributos de entrada, su significado y tipo.**"
   ]
  },
  {
   "cell_type": "markdown",
   "id": "cf373d94",
   "metadata": {},
   "source": [
    "**Species:** Variable Categórica, Nombre de cada especie a la que pertenecen los peces.\n",
    "\n",
    "**Length1:** Variable Continua, Longitud vertical en centímetros del pescado.\n",
    "\n",
    "**Length2:** Variable Continua, Longitud diagonal en centímetros del pescado.\n",
    "\n",
    "**Length3:** Variable Continua, Longitud de la cruz en centímetros del pescado.\n",
    "\n",
    "**Height:** Variable Continua, Altura en centímetros del pescado.\n",
    "\n",
    "**Width:** Variable Continua, Anchura diagonal en centímetros del pescado."
   ]
  },
  {
   "cell_type": "code",
   "execution_count": 14,
   "id": "ca7cd0ba",
   "metadata": {},
   "outputs": [
    {
     "name": "stdout",
     "output_type": "stream",
     "text": [
      "<class 'pandas.core.frame.DataFrame'>\n",
      "RangeIndex: 159 entries, 0 to 158\n",
      "Data columns (total 6 columns):\n",
      " #   Column   Non-Null Count  Dtype  \n",
      "---  ------   --------------  -----  \n",
      " 0   Species  159 non-null    object \n",
      " 1   Length1  159 non-null    float64\n",
      " 2   Length2  159 non-null    float64\n",
      " 3   Length3  159 non-null    float64\n",
      " 4   Height   159 non-null    float64\n",
      " 5   Width    159 non-null    float64\n",
      "dtypes: float64(5), object(1)\n",
      "memory usage: 7.6+ KB\n"
     ]
    }
   ],
   "source": [
    "#Información relevante acerca del dataset\n",
    "df.drop('Weight', axis=1).info()"
   ]
  },
  {
   "cell_type": "markdown",
   "id": "c428ea72",
   "metadata": {},
   "source": [
    "**Estadísticas de la variable objetivo**"
   ]
  },
  {
   "cell_type": "code",
   "execution_count": 16,
   "id": "2f0ed5d2",
   "metadata": {},
   "outputs": [
    {
     "data": {
      "text/plain": [
       "<AxesSubplot:>"
      ]
     },
     "execution_count": 16,
     "metadata": {},
     "output_type": "execute_result"
    },
    {
     "data": {
      "image/png": "[encoded data removed]",
      "text/plain": [
       "<Figure size 432x288 with 1 Axes>"
      ]
     },
     "metadata": {
      "needs_background": "light"
     },
     "output_type": "display_data"
    }
   ],
   "source": [
    "#Habilitar el trazado de linea\n",
    "%matplotlib inline\n",
    "#Crear gráfico de barras como la variable objetivo (tipo) continua.\n",
    "df['Weight'].hist()"
   ]
  },
  {
   "cell_type": "markdown",
   "id": "a7ab5e48",
   "metadata": {},
   "source": [
    "Observamos que la variable de peso de los peces (weight) es adecuada porque contiene una curva y esta ligeramente sesgada a la derecha y tiene valores de los que pueden aprender.  "
   ]
  },
  {
   "cell_type": "markdown",
   "id": "271b59a3",
   "metadata": {},
   "source": [
    "### Análisis exploratorio de datos"
   ]
  },
  {
   "cell_type": "markdown",
   "id": "c12ad6d0",
   "metadata": {},
   "source": [
    ">- Variables categóricas: gráfico de barras\n",
    ">- Variables continuas: Histograma"
   ]
  },
  {
   "cell_type": "markdown",
   "id": "c469b2b8",
   "metadata": {},
   "source": [
    "#### Visualización la distribución de todas las variables de entrada categóricas mediante diagramas de barras"
   ]
  },
  {
   "cell_type": "code",
   "execution_count": 45,
   "id": "0055e10d",
   "metadata": {},
   "outputs": [
    {
     "data": {
      "text/plain": [
       "Species      7\n",
       "Weight     101\n",
       "Length1    116\n",
       "Length2     93\n",
       "Length3    124\n",
       "Height     154\n",
       "Width      152\n",
       "dtype: int64"
      ]
     },
     "execution_count": 45,
     "metadata": {},
     "output_type": "execute_result"
    }
   ],
   "source": [
    "#Vamos a observar los atribbutos que tienen nulos e identificar a los categoricos\n",
    "df.nunique()"
   ]
  },
  {
   "cell_type": "markdown",
   "id": "6414bff2",
   "metadata": {},
   "source": [
    "Podemos observar que tenemos una sola variable categórica la cual es Species, esto lo deducimos porque realizamos un cambio mediante LabelEncoding. Además podemos deducir que una variable categorica tiene valores muy bajos.  "
   ]
  },
  {
   "cell_type": "code",
   "execution_count": 53,
   "id": "b43252fa",
   "metadata": {},
   "outputs": [],
   "source": [
    "#Plotting de múltiples gráficos de barras a la vez para variables categóricas.\n",
    "#Dado que no existe una función predeterminada que pueda trazar gráficos de barras para varias columnas a la vez, \n",
    "#estamos definiendo nuestra propia función para la misma.\n",
    "def PlotBarCharts(inpData, colsToPlot):\n",
    "    \n",
    "    '''\n",
    "    Método para realizar gráficos de barras de varios datos.\n",
    "    '''\n",
    "    #Establece el trazado de linea\n",
    "    %matplotlib inline\n",
    "    #Libreria para realizar el gráfico\n",
    "    import matplotlib.pyplot as plt\n",
    "    \n",
    "    # Generating multiple subplots\n",
    "    fig, subPlot=plt.subplots(nrows=1, ncols=len(colsToPlot), figsize=(20,5))\n",
    "    #Titulo o leyenda para el gráfico\n",
    "    fig.suptitle('Bar charts of: '+ str(colsToPlot))\n",
    "    #Grafico escalado de barras\n",
    "    for colName, plotNumber in zip(colsToPlot, range(len(colsToPlot))):\n",
    "        inpData.groupby(colName).size().plot(kind='bar',ax=subPlot[plotNumber])"
   ]
  },
  {
   "cell_type": "code",
   "execution_count": 57,
   "id": "066e7218",
   "metadata": {},
   "outputs": [
    {
     "data": {
      "image/png": "[encoded data removed]",
      "text/plain": [
       "<Figure size 1440x360 with 2 Axes>"
      ]
     },
     "metadata": {
      "needs_background": "light"
     },
     "output_type": "display_data"
    }
   ],
   "source": [
    "#Funcion para graficar\n",
    "PlotBarCharts(inpData=df, colsToPlot=['Species', 'Species'])"
   ]
  },
  {
   "cell_type": "markdown",
   "id": "b38633b3",
   "metadata": {},
   "source": [
    "# Interpretación:\n",
    "Como tenemos solo una variable categórica, al momento de comparar se requiere de dos variables categóricas. Repetimos la variable para poder comparar correctamente y observamos las 7 barras de cada especie de peces. \n"
   ]
  },
  {
   "cell_type": "markdown",
   "id": "42f2ffb2",
   "metadata": {},
   "source": [
    "### Visualizar la distribución de todas las variables continuas usando histogramas"
   ]
  },
  {
   "cell_type": "code",
   "execution_count": 59,
   "id": "4cabe718",
   "metadata": {},
   "outputs": [
    {
     "data": {
      "text/plain": [
       "array([[<AxesSubplot:title={'center':'Weight'}>,\n",
       "        <AxesSubplot:title={'center':'Width'}>],\n",
       "       [<AxesSubplot:title={'center':'Height'}>,\n",
       "        <AxesSubplot:title={'center':'Length3'}>],\n",
       "       [<AxesSubplot:title={'center':'Length2'}>,\n",
       "        <AxesSubplot:title={'center':'Length1'}>]], dtype=object)"
      ]
     },
     "execution_count": 59,
     "metadata": {},
     "output_type": "execute_result"
    },
    {
     "data": {
      "image/png": "[encoded data removed]",
      "text/plain": [
       "<Figure size 1296x720 with 6 Axes>"
      ]
     },
     "metadata": {
      "needs_background": "light"
     },
     "output_type": "display_data"
    }
   ],
   "source": [
    "# Plotting histogramas de múltiples columnas juntas\n",
    "df.hist(['Weight','Width','Height','Length3','Length2','Length1'], figsize=(18,10))"
   ]
  },
  {
   "cell_type": "markdown",
   "id": "41f087e3",
   "metadata": {},
   "source": [
    "**Interpretación:**\n",
    "\n",
    "El eje X muestra el rango de valores y el eje Y representa el número de valores en ese rango. Por ejemplo, en el histograma anterior de 'Weight' tiene de 60 filas.\n",
    "\n",
    "Deducimos que los histogramas tienen cierta similitud ya que se asemejan en sus valores de filas.\n",
    "\n",
    "\n",
    "Variables continuas seleccionadas:\n",
    "\n",
    "     Weight: Seleccionado. La distribución es buena.\n",
    "     Width: Seleccionado. La distribución es buena.\n",
    "     Height: Seleccionado. La distribución es buena.\n",
    "     Length3: Seleccionado. La distribución es buena. \n",
    "     Length2: Seleccionado. La distribución es buena. \n",
    "     Length1: Seleccionado. La distribución es buena. \n",
    "\n"
   ]
  },
  {
   "cell_type": "markdown",
   "id": "4e960ae9",
   "metadata": {},
   "source": [
    "### Exploración de relaciones: Continuo Vs Continuo -- Scatter Charts (Gráficos de dispersión)"
   ]
  },
  {
   "cell_type": "code",
   "execution_count": 60,
   "id": "3c636eb4",
   "metadata": {},
   "outputs": [
    {
     "data": {
      "image/png": "[encoded data removed]",
      "text/plain": [
       "<Figure size 720x360 with 1 Axes>"
      ]
     },
     "metadata": {
      "needs_background": "light"
     },
     "output_type": "display_data"
    },
    {
     "data": {
      "image/png": "[encoded data removed]",
      "text/plain": [
       "<Figure size 720x360 with 1 Axes>"
      ]
     },
     "metadata": {
      "needs_background": "light"
     },
     "output_type": "display_data"
    },
    {
     "data": {
      "image/png": "[encoded data removed]",
      "text/plain": [
       "<Figure size 720x360 with 1 Axes>"
      ]
     },
     "metadata": {
      "needs_background": "light"
     },
     "output_type": "display_data"
    },
    {
     "data": {
      "image/png": "[encoded data removed]",
      "text/plain": [
       "<Figure size 720x360 with 1 Axes>"
      ]
     },
     "metadata": {
      "needs_background": "light"
     },
     "output_type": "display_data"
    },
    {
     "data": {
      "image/png": "[encoded data removed]",
      "text/plain": [
       "<Figure size 720x360 with 1 Axes>"
      ]
     },
     "metadata": {
      "needs_background": "light"
     },
     "output_type": "display_data"
    }
   ],
   "source": [
    "#Valores  Continuos\n",
    "ContinuousCols=['Width','Height','Length3','Length2','Length1']\n",
    "\n",
    "# Plotting scatter chart por cada variable de entrada vs varible objetivo\n",
    "for predictor in ContinuousCols:\n",
    "    df.plot.scatter(x=predictor, y='Weight', figsize=(10,5), title=predictor+\" VS \"+ 'Weight')"
   ]
  },
  {
   "cell_type": "markdown",
   "id": "3ce495fc",
   "metadata": {},
   "source": [
    "# Interpretación\n",
    "\n",
    "Se realiza cada vs con la variable objetivo Weight, aqui tenemos los siguientes datos:\n",
    "\n",
    "    Width: Tendencia creciente. Correlacionado.\n",
    "    Height: Seleccionado. Tendencia creciente. Correlacionado.\n",
    "    Length3: Seleccionado. Tendencia creciente. Correlacionado.\n",
    "    Length2: Seleccionado. Tendencia creciente. Correlacionado.\n",
    "    Length1: Seleccionado. Tendencia creciente. Correlacionado."
   ]
  },
  {
   "cell_type": "markdown",
   "id": "0a19e6af",
   "metadata": {},
   "source": [
    "## Preprocesamiento del dataset. Transformaciones previas necesarias para la modelación"
   ]
  },
  {
   "cell_type": "code",
   "execution_count": 66,
   "id": "5a24dac4",
   "metadata": {},
   "outputs": [],
   "source": [
    "#Transformación de las caracteristicas (mire el apartado Feature engineering del aula virtual)\n",
    "#Variable objetivo y\n",
    "VariableObjetivo=['Weight']\n",
    "#Variables de entrada x\n",
    "VariablesEntrada=['Species', 'Width', 'Height', 'Length1', 'Length2', 'Length3']"
   ]
  },
  {
   "cell_type": "code",
   "execution_count": 67,
   "id": "638c3ab5",
   "metadata": {},
   "outputs": [],
   "source": [
    "# Dar x a las variables de entrada\n",
    "X=df[VariablesEntrada].values\n",
    "#Dar y  a la variable objetivo\n",
    "y=df[VariableObjetivo].values"
   ]
  },
  {
   "cell_type": "code",
   "execution_count": 68,
   "id": "76dd7f8a",
   "metadata": {},
   "outputs": [],
   "source": [
    "### Estandarización de la data ###\n",
    "from sklearn.preprocessing import StandardScaler\n",
    "#Variable de entrada escalar\n",
    "VariablesEntradaScaler=StandardScaler()\n",
    "#Variable objetivo escalar\n",
    "VariableObjetivoScaler=StandardScaler()"
   ]
  },
  {
   "cell_type": "code",
   "execution_count": 69,
   "id": "9d867e41",
   "metadata": {},
   "outputs": [],
   "source": [
    "#Almacenamiento del objeto de ajuste para referencia posterior\n",
    "#Fit variable de entrada y variable entrada escalar\n",
    "VariablesEntradaFit=VariablesEntradaScaler.fit(X)\n",
    "#Fit variable objetivo y variable objetivo escalar\n",
    "VariableObjetivoFit=VariableObjetivoScaler.fit(y)"
   ]
  },
  {
   "cell_type": "code",
   "execution_count": 70,
   "id": "30a62f21",
   "metadata": {},
   "outputs": [],
   "source": [
    "#Generación de los valores estandarizados de X e y\n",
    "#Asignamos x a la variable de entrada fit\n",
    "X=VariablesEntradaFit.transform(X)\n",
    "#Asignamos y a la variable ojetivo fit\n",
    "y=VariableObjetivoFit.transform(y)"
   ]
  },
  {
   "cell_type": "markdown",
   "id": "49815fde",
   "metadata": {
    "ExecuteTime": {
     "end_time": "2022-03-14T15:56:34.366469Z",
     "start_time": "2022-03-14T15:56:34.358471Z"
    }
   },
   "source": [
    "## División del dataset en datos de entrenamiento y datos de test "
   ]
  },
  {
   "cell_type": "code",
   "execution_count": 71,
   "id": "6f26d21e",
   "metadata": {},
   "outputs": [],
   "source": [
    "#Código que realice la división en entrenamiento y test, de acuerdo con la estretgia de evaluación planeada. Describa cuál es.\n",
    "#Importar la liberia de entrenamiento y test\n",
    "from sklearn.model_selection import train_test_split\n",
    "#Realizar los datos de prueba y entrenamiento\n",
    "X_train, X_test, y_train, y_test = train_test_split(X, y, test_size=0.3, random_state=42)"
   ]
  },
  {
   "cell_type": "code",
   "execution_count": 73,
   "id": "fe1443ec",
   "metadata": {
    "scrolled": true
   },
   "outputs": [
    {
     "name": "stdout",
     "output_type": "stream",
     "text": [
      "(111, 6)\n",
      "(111, 1)\n",
      "(48, 6)\n",
      "(48, 1)\n"
     ]
    }
   ],
   "source": [
    "#Comprobación rápida del tamaño de los conjuntos de datos de entrenamiento y prueba\n",
    "#Datos de x entrenamiento\n",
    "print(X_train.shape)\n",
    "#Datos de y entrenamiento\n",
    "print(y_train.shape)\n",
    "#Datos de x test\n",
    "print(X_test.shape)\n",
    "#Datos de y entrenamiento\n",
    "print(y_test.shape)"
   ]
  },
  {
   "cell_type": "markdown",
   "id": "6319adad",
   "metadata": {},
   "source": [
    "## Regresión Lineal"
   ]
  },
  {
   "cell_type": "code",
   "execution_count": 85,
   "id": "d5d2b2c6",
   "metadata": {},
   "outputs": [
    {
     "name": "stdout",
     "output_type": "stream",
     "text": [
      "LinearRegression()\n",
      "[[-0.89182692]\n",
      " [-1.46718663]\n",
      " [ 0.02496738]\n",
      " [ 0.06166762]\n",
      " [-0.6827645 ]\n",
      " [ 1.20759356]\n",
      " [-1.67182279]\n",
      " [-0.31056087]\n",
      " [-0.41361483]\n",
      " [ 2.18123956]\n",
      " [ 0.48490297]\n",
      " [ 1.42096081]\n",
      " [ 0.4887746 ]\n",
      " [-0.67837451]\n",
      " [ 0.77703218]\n",
      " [ 1.22356595]\n",
      " [ 1.48849083]\n",
      " [-0.21012855]\n",
      " [-0.36724375]\n",
      " [ 0.49313467]\n",
      " [-1.56791172]\n",
      " [ 0.65285282]\n",
      " [ 0.32904568]\n",
      " [ 0.22181248]\n",
      " [ 1.24289569]\n",
      " [ 1.45665787]\n",
      " [-0.52428564]\n",
      " [ 0.0589428 ]\n",
      " [-1.72857386]\n",
      " [-1.5643424 ]\n",
      " [ 0.85237968]\n",
      " [-1.11290887]\n",
      " [-1.18736434]\n",
      " [ 1.26370645]\n",
      " [-0.18082918]\n",
      " [-0.64834302]\n",
      " [-0.52852802]\n",
      " [-0.72585621]\n",
      " [-0.48692568]\n",
      " [ 1.16463719]\n",
      " [ 0.76138299]\n",
      " [ 1.05181201]\n",
      " [-1.6647603 ]\n",
      " [-0.7347164 ]\n",
      " [-0.67865419]\n",
      " [-0.93877229]\n",
      " [-0.7778203 ]\n",
      " [ 0.70339889]]\n"
     ]
    }
   ],
   "source": [
    "# Multiple Linear Regression\n",
    "from sklearn.linear_model import LinearRegression\n",
    "#imprimimos el modelo de regresion\n",
    "RegModel = LinearRegression()\n",
    "\n",
    "# Imprimiendo todos los parámetros de regresión lineal\n",
    "print(RegModel)\n",
    "\n",
    "# Creando el modelo en datos de entrenamiento\n",
    "LREG=RegModel.fit(X_train,y_train)\n",
    "#prediccion de x test\n",
    "prediction=LREG.predict(X_test)\n",
    "# Imprimir el resultado de predicción\n",
    "print(prediction)\n"
   ]
  },
  {
   "cell_type": "code",
   "execution_count": 86,
   "id": "e79eb2ae",
   "metadata": {},
   "outputs": [
    {
     "name": "stdout",
     "output_type": "stream",
     "text": [
      "R2 Value: 0.893904203710769\n",
      "\n",
      "##### Validación de modelos y cálculos de precisión ##########\n"
     ]
    }
   ],
   "source": [
    "#Liberia metrics de sklearn\n",
    "from sklearn import metrics\n",
    "# Medición de ajuste en datos de entrenamiento\n",
    "print('R2 Value:',metrics.r2_score(y_train, LREG.predict(X_train)))\n",
    "\n",
    "###########################################################################\n",
    "#Imprimir validacion de modelos\n",
    "print('\\n##### Validación de modelos y cálculos de precisión ##########')"
   ]
  },
  {
   "cell_type": "code",
   "execution_count": 90,
   "id": "33f5be2a",
   "metadata": {
    "ExecuteTime": {
     "end_time": "2022-04-25T07:21:39.020596Z",
     "start_time": "2022-04-25T07:21:39.005596Z"
    }
   },
   "outputs": [
    {
     "name": "stdout",
     "output_type": "stream",
     "text": [
      "     Weight  PredictedWeight\n",
      "0 -0.897648             -1.0\n",
      "1 -1.078676             -1.0\n",
      "2 -0.555768              0.0\n",
      "3 -0.359608              0.0\n",
      "4 -0.695883             -1.0\n"
     ]
    }
   ],
   "source": [
    "# Imprimir algunos valores de muestra de predicción\n",
    "#Imprimir el testing de los resultados\n",
    "TestingDataResults=pd.DataFrame(data=X_test, columns=VariablesEntrada)\n",
    "#Imprimir testing de la variable objetivo\n",
    "TestingDataResults[VariableObjetivo]=y_test\n",
    "#Imprimir los valores de prediccion\n",
    "TestingDataResults[('Predicted'+'Weight')]=np.round(prediction)\n",
    "# Impresión de valores muestra de la predicción\n",
    "print(TestingDataResults[['Weight','Predicted'+'Weight']].head())\n"
   ]
  },
  {
   "cell_type": "code",
   "execution_count": 92,
   "id": "a2e675b3",
   "metadata": {},
   "outputs": [
    {
     "name": "stdout",
     "output_type": "stream",
     "text": [
      "Mean Accuracy de test data: 103.70341883630138\n",
      "Median Accuracy de test data: 110.04503330966922\n"
     ]
    }
   ],
   "source": [
    "\n",
    "# Cálculo del error para cada fila\n",
    "TestingDataResults['APE']=100 * ((abs(\n",
    "  TestingDataResults['Weight']-TestingDataResults['PredictedWeight']))/TestingDataResults['Weight'])\n",
    "#obtenemos la media de los resultados testing\n",
    "MAPE=np.mean(TestingDataResults['APE'])\n",
    "#Mediana de los resultados testing\n",
    "MedianMAPE=np.median(TestingDataResults['APE'])\n",
    "#Presición \n",
    "Accuracy =100 - MAPE\n",
    "#Presición de la mediana\n",
    "MedianAccuracy=100- MedianMAPE\n",
    "#Imprimir presición\n",
    "print('Mean Accuracy de test data:', Accuracy) # Can be negative sometimes due to outlier\n",
    "#Precisión de los datos de prueba\n",
    "print('Median Accuracy de test data:', MedianAccuracy)"
   ]
  },
  {
   "cell_type": "code",
   "execution_count": 93,
   "id": "fe6cb401",
   "metadata": {},
   "outputs": [
    {
     "name": "stdout",
     "output_type": "stream",
     "text": [
      "\n",
      "Valores de precisión para la validación cruzada de 10 veces:\n",
      " [160.83074216  72.65399267 117.00386545 373.13768728 138.76126313\n",
      " 109.93815236 156.42214049  65.21933471  25.73063727 171.13161671]\n",
      "\n",
      "Precisión media final del modelo: 139.08\n"
     ]
    }
   ],
   "source": [
    "#Accuracy Score\n",
    "def Accuracy_Score(orig,pred):\n",
    "    '''\n",
    "    Método que permite realizar la precisión de la prediccion.\n",
    "    \n",
    "    Valores:\n",
    "    orig: Dataset original\n",
    "    orig: Predicción del dataset\n",
    "    \n",
    "    Retorna:\n",
    "    \n",
    "    100-MAPE: Porcentaje del error\n",
    "    \n",
    "    '''\n",
    "    #Calculo del porcentaje de error\n",
    "    MAPE = np.mean(100 * (np.abs(orig-pred)/orig))\n",
    "    #print('#'*70,'Accuracy:', 100-MAPE)\n",
    "    return(100-MAPE)\n",
    "\n",
    "# Cálculo MAPE de puntuación personalizada\n",
    "from sklearn.metrics import make_scorer\n",
    "custom_Scoring=make_scorer(Accuracy_Score, greater_is_better=True)\n",
    "# Importación de la función de validación cruzada de sklearn\n",
    "from sklearn.model_selection import cross_val_score\n",
    "# Ejecutar validación cruzada de 10 veces en un algoritmo dado\n",
    "# Pasar datos completos X e y porque el K-fold dividirá los datos y automáticamente elegirá entrenar/probar\n",
    "Accuracy_Values=cross_val_score(RegModel, X , y, cv=10, scoring=custom_Scoring)\n",
    "print('\\nValores de precisión para la validación cruzada de 10 veces:\\n',Accuracy_Values)\n",
    "print('\\nPrecisión media final del modelo:', round(Accuracy_Values.mean(),2))\n"
   ]
  },
  {
   "cell_type": "markdown",
   "id": "9c2239f5",
   "metadata": {},
   "source": [
    "## Evaluación del Modelo"
   ]
  },
  {
   "cell_type": "markdown",
   "id": "ad219a0c",
   "metadata": {},
   "source": []
  }
 ],
 "metadata": {
  "kernelspec": {
   "display_name": "Python 3 (ipykernel)",
   "language": "python",
   "name": "python3"
  },
  "language_info": {
   "codemirror_mode": {
    "name": "ipython",
    "version": 3
   },
   "file_extension": ".py",
   "mimetype": "text/x-python",
   "name": "python",
   "nbconvert_exporter": "python",
   "pygments_lexer": "ipython3",
   "version": "3.9.12"
  },
  "toc": {
   "base_numbering": 1,
   "nav_menu": {},
   "number_sections": true,
   "sideBar": true,
   "skip_h1_title": true,
   "title_cell": "Tabla de Contenido",
   "title_sidebar": "Contenido",
   "toc_cell": false,
   "toc_position": {
    "height": "calc(100% - 180px)",
    "left": "10px",
    "top": "150px",
    "width": "263.591px"
   },
   "toc_section_display": true,
   "toc_window_display": true
  }
 },
 "nbformat": 4,
 "nbformat_minor": 5
}
