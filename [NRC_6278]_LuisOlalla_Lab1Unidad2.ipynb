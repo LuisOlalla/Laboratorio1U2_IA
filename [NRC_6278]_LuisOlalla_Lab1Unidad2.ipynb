{
 "cells": [
  {
   "cell_type": "markdown",
   "id": "8b6f603c",
   "metadata": {},
   "source": [
    "<center><h1>Técnicas de Inteligencia Artificial</header1></center>"
   ]
  },
  {
   "cell_type": "markdown",
   "id": "3eb1aaac",
   "metadata": {},
   "source": [
    "Presentado por: Luis Miguel Olalla Chuque <br>\n",
    "Fecha: 17/07/2022"
   ]
  },
  {
   "cell_type": "markdown",
   "id": "1dec299b",
   "metadata": {
    "ExecuteTime": {
     "end_time": "2022-03-14T15:14:04.930713Z",
     "start_time": "2022-03-14T15:14:04.921682Z"
    }
   },
   "source": [
    "# Importación de librerias necesarias"
   ]
  },
  {
   "cell_type": "code",
   "execution_count": 36,
   "id": "6d1abf7a",
   "metadata": {
    "ExecuteTime": {
     "end_time": "2022-03-14T15:14:46.228059Z",
     "start_time": "2022-03-14T15:14:46.223108Z"
    }
   },
   "outputs": [],
   "source": [
    "#Para esta actividad se importarán las siguientes librerías:\n",
    "import pandas as pd\n",
    "#Importar liberia numpy\n",
    "import numpy as np\n",
    "#importamos libreria de entrenamiento y prueba\n",
    "from sklearn.model_selection import train_test_split\n",
    "#liberia para realizar funciones metricas\n",
    "from sklearn import metrics\n",
    "#Libreria para realizar regresion lineal\n",
    "from sklearn.linear_model import LinearRegression \n",
    "#Libreria para realizar graficos estadisticos\n",
    "import matplotlib.pyplot as plt\n",
    "#Liberia para el LabelEncoding\n",
    "from sklearn.preprocessing import LabelEncoder"
   ]
  },
  {
   "cell_type": "markdown",
   "id": "6a44b924",
   "metadata": {},
   "source": [
    "## Cargar el Dataset"
   ]
  },
  {
   "cell_type": "code",
   "execution_count": 37,
   "id": "3541e808",
   "metadata": {},
   "outputs": [],
   "source": [
    "\n",
    "#Código para cargar el Dataset\n",
    "fish=pd.read_csv('Fish.csv')"
   ]
  },
  {
   "cell_type": "code",
   "execution_count": 38,
   "id": "0afe71c3",
   "metadata": {},
   "outputs": [],
   "source": [
    "#crear dataframe para realizar operaciones aritméticas\n",
    "df =pd.DataFrame(fish)"
   ]
  },
  {
   "cell_type": "code",
   "execution_count": 39,
   "id": "94f2d8b5",
   "metadata": {},
   "outputs": [
    {
     "data": {
      "text/html": [
       "<div>\n",
       "<style scoped>\n",
       "    .dataframe tbody tr th:only-of-type {\n",
       "        vertical-align: middle;\n",
       "    }\n",
       "\n",
       "    .dataframe tbody tr th {\n",
       "        vertical-align: top;\n",
       "    }\n",
       "\n",
       "    .dataframe thead th {\n",
       "        text-align: right;\n",
       "    }\n",
       "</style>\n",
       "<table border=\"1\" class=\"dataframe\">\n",
       "  <thead>\n",
       "    <tr style=\"text-align: right;\">\n",
       "      <th></th>\n",
       "      <th>Species</th>\n",
       "      <th>Weight</th>\n",
       "      <th>Length1</th>\n",
       "      <th>Length2</th>\n",
       "      <th>Length3</th>\n",
       "      <th>Height</th>\n",
       "      <th>Width</th>\n",
       "    </tr>\n",
       "  </thead>\n",
       "  <tbody>\n",
       "    <tr>\n",
       "      <th>0</th>\n",
       "      <td>Bream</td>\n",
       "      <td>242.0</td>\n",
       "      <td>23.2</td>\n",
       "      <td>25.4</td>\n",
       "      <td>30.0</td>\n",
       "      <td>11.5200</td>\n",
       "      <td>4.0200</td>\n",
       "    </tr>\n",
       "    <tr>\n",
       "      <th>1</th>\n",
       "      <td>Bream</td>\n",
       "      <td>290.0</td>\n",
       "      <td>24.0</td>\n",
       "      <td>26.3</td>\n",
       "      <td>31.2</td>\n",
       "      <td>12.4800</td>\n",
       "      <td>4.3056</td>\n",
       "    </tr>\n",
       "    <tr>\n",
       "      <th>2</th>\n",
       "      <td>Bream</td>\n",
       "      <td>340.0</td>\n",
       "      <td>23.9</td>\n",
       "      <td>26.5</td>\n",
       "      <td>31.1</td>\n",
       "      <td>12.3778</td>\n",
       "      <td>4.6961</td>\n",
       "    </tr>\n",
       "    <tr>\n",
       "      <th>3</th>\n",
       "      <td>Bream</td>\n",
       "      <td>363.0</td>\n",
       "      <td>26.3</td>\n",
       "      <td>29.0</td>\n",
       "      <td>33.5</td>\n",
       "      <td>12.7300</td>\n",
       "      <td>4.4555</td>\n",
       "    </tr>\n",
       "    <tr>\n",
       "      <th>4</th>\n",
       "      <td>Bream</td>\n",
       "      <td>430.0</td>\n",
       "      <td>26.5</td>\n",
       "      <td>29.0</td>\n",
       "      <td>34.0</td>\n",
       "      <td>12.4440</td>\n",
       "      <td>5.1340</td>\n",
       "    </tr>\n",
       "    <tr>\n",
       "      <th>5</th>\n",
       "      <td>Bream</td>\n",
       "      <td>450.0</td>\n",
       "      <td>26.8</td>\n",
       "      <td>29.7</td>\n",
       "      <td>34.7</td>\n",
       "      <td>13.6024</td>\n",
       "      <td>4.9274</td>\n",
       "    </tr>\n",
       "    <tr>\n",
       "      <th>6</th>\n",
       "      <td>Bream</td>\n",
       "      <td>500.0</td>\n",
       "      <td>26.8</td>\n",
       "      <td>29.7</td>\n",
       "      <td>34.5</td>\n",
       "      <td>14.1795</td>\n",
       "      <td>5.2785</td>\n",
       "    </tr>\n",
       "    <tr>\n",
       "      <th>7</th>\n",
       "      <td>Bream</td>\n",
       "      <td>390.0</td>\n",
       "      <td>27.6</td>\n",
       "      <td>30.0</td>\n",
       "      <td>35.0</td>\n",
       "      <td>12.6700</td>\n",
       "      <td>4.6900</td>\n",
       "    </tr>\n",
       "    <tr>\n",
       "      <th>8</th>\n",
       "      <td>Bream</td>\n",
       "      <td>450.0</td>\n",
       "      <td>27.6</td>\n",
       "      <td>30.0</td>\n",
       "      <td>35.1</td>\n",
       "      <td>14.0049</td>\n",
       "      <td>4.8438</td>\n",
       "    </tr>\n",
       "    <tr>\n",
       "      <th>9</th>\n",
       "      <td>Bream</td>\n",
       "      <td>500.0</td>\n",
       "      <td>28.5</td>\n",
       "      <td>30.7</td>\n",
       "      <td>36.2</td>\n",
       "      <td>14.2266</td>\n",
       "      <td>4.9594</td>\n",
       "    </tr>\n",
       "  </tbody>\n",
       "</table>\n",
       "</div>"
      ],
      "text/plain": [
       "  Species  Weight  Length1  Length2  Length3   Height   Width\n",
       "0   Bream   242.0     23.2     25.4     30.0  11.5200  4.0200\n",
       "1   Bream   290.0     24.0     26.3     31.2  12.4800  4.3056\n",
       "2   Bream   340.0     23.9     26.5     31.1  12.3778  4.6961\n",
       "3   Bream   363.0     26.3     29.0     33.5  12.7300  4.4555\n",
       "4   Bream   430.0     26.5     29.0     34.0  12.4440  5.1340\n",
       "5   Bream   450.0     26.8     29.7     34.7  13.6024  4.9274\n",
       "6   Bream   500.0     26.8     29.7     34.5  14.1795  5.2785\n",
       "7   Bream   390.0     27.6     30.0     35.0  12.6700  4.6900\n",
       "8   Bream   450.0     27.6     30.0     35.1  14.0049  4.8438\n",
       "9   Bream   500.0     28.5     30.7     36.2  14.2266  4.9594"
      ]
     },
     "execution_count": 39,
     "metadata": {},
     "output_type": "execute_result"
    }
   ],
   "source": [
    "\n",
    "#Los 10 primeros registros del dataset\n",
    "df.head(10)\n"
   ]
  },
  {
   "cell_type": "code",
   "execution_count": 40,
   "id": "8e287a4d",
   "metadata": {},
   "outputs": [],
   "source": [
    "#Label Encoding para transformar el atributo de species\n",
    "encoder = LabelEncoder()"
   ]
  },
  {
   "cell_type": "code",
   "execution_count": 41,
   "id": "823de66e",
   "metadata": {},
   "outputs": [],
   "source": [
    "#Tranformar la variable species\n",
    "fish[\"Species\"] = encoder.fit_transform(fish[\"Species\"])"
   ]
  },
  {
   "cell_type": "code",
   "execution_count": 42,
   "id": "aa0d7999",
   "metadata": {},
   "outputs": [
    {
     "data": {
      "text/html": [
       "<div>\n",
       "<style scoped>\n",
       "    .dataframe tbody tr th:only-of-type {\n",
       "        vertical-align: middle;\n",
       "    }\n",
       "\n",
       "    .dataframe tbody tr th {\n",
       "        vertical-align: top;\n",
       "    }\n",
       "\n",
       "    .dataframe thead th {\n",
       "        text-align: right;\n",
       "    }\n",
       "</style>\n",
       "<table border=\"1\" class=\"dataframe\">\n",
       "  <thead>\n",
       "    <tr style=\"text-align: right;\">\n",
       "      <th></th>\n",
       "      <th>Species</th>\n",
       "      <th>Weight</th>\n",
       "      <th>Length1</th>\n",
       "      <th>Length2</th>\n",
       "      <th>Length3</th>\n",
       "      <th>Height</th>\n",
       "      <th>Width</th>\n",
       "    </tr>\n",
       "  </thead>\n",
       "  <tbody>\n",
       "    <tr>\n",
       "      <th>count</th>\n",
       "      <td>159.000000</td>\n",
       "      <td>159.000000</td>\n",
       "      <td>159.000000</td>\n",
       "      <td>159.000000</td>\n",
       "      <td>159.000000</td>\n",
       "      <td>159.000000</td>\n",
       "      <td>159.000000</td>\n",
       "    </tr>\n",
       "    <tr>\n",
       "      <th>mean</th>\n",
       "      <td>2.264151</td>\n",
       "      <td>398.326415</td>\n",
       "      <td>26.247170</td>\n",
       "      <td>28.415723</td>\n",
       "      <td>31.227044</td>\n",
       "      <td>8.970994</td>\n",
       "      <td>4.417486</td>\n",
       "    </tr>\n",
       "    <tr>\n",
       "      <th>std</th>\n",
       "      <td>1.704249</td>\n",
       "      <td>357.978317</td>\n",
       "      <td>9.996441</td>\n",
       "      <td>10.716328</td>\n",
       "      <td>11.610246</td>\n",
       "      <td>4.286208</td>\n",
       "      <td>1.685804</td>\n",
       "    </tr>\n",
       "    <tr>\n",
       "      <th>min</th>\n",
       "      <td>0.000000</td>\n",
       "      <td>0.000000</td>\n",
       "      <td>7.500000</td>\n",
       "      <td>8.400000</td>\n",
       "      <td>8.800000</td>\n",
       "      <td>1.728400</td>\n",
       "      <td>1.047600</td>\n",
       "    </tr>\n",
       "    <tr>\n",
       "      <th>25%</th>\n",
       "      <td>1.000000</td>\n",
       "      <td>120.000000</td>\n",
       "      <td>19.050000</td>\n",
       "      <td>21.000000</td>\n",
       "      <td>23.150000</td>\n",
       "      <td>5.944800</td>\n",
       "      <td>3.385650</td>\n",
       "    </tr>\n",
       "    <tr>\n",
       "      <th>50%</th>\n",
       "      <td>2.000000</td>\n",
       "      <td>273.000000</td>\n",
       "      <td>25.200000</td>\n",
       "      <td>27.300000</td>\n",
       "      <td>29.400000</td>\n",
       "      <td>7.786000</td>\n",
       "      <td>4.248500</td>\n",
       "    </tr>\n",
       "    <tr>\n",
       "      <th>75%</th>\n",
       "      <td>3.500000</td>\n",
       "      <td>650.000000</td>\n",
       "      <td>32.700000</td>\n",
       "      <td>35.500000</td>\n",
       "      <td>39.650000</td>\n",
       "      <td>12.365900</td>\n",
       "      <td>5.584500</td>\n",
       "    </tr>\n",
       "    <tr>\n",
       "      <th>max</th>\n",
       "      <td>6.000000</td>\n",
       "      <td>1650.000000</td>\n",
       "      <td>59.000000</td>\n",
       "      <td>63.400000</td>\n",
       "      <td>68.000000</td>\n",
       "      <td>18.957000</td>\n",
       "      <td>8.142000</td>\n",
       "    </tr>\n",
       "  </tbody>\n",
       "</table>\n",
       "</div>"
      ],
      "text/plain": [
       "          Species       Weight     Length1     Length2     Length3  \\\n",
       "count  159.000000   159.000000  159.000000  159.000000  159.000000   \n",
       "mean     2.264151   398.326415   26.247170   28.415723   31.227044   \n",
       "std      1.704249   357.978317    9.996441   10.716328   11.610246   \n",
       "min      0.000000     0.000000    7.500000    8.400000    8.800000   \n",
       "25%      1.000000   120.000000   19.050000   21.000000   23.150000   \n",
       "50%      2.000000   273.000000   25.200000   27.300000   29.400000   \n",
       "75%      3.500000   650.000000   32.700000   35.500000   39.650000   \n",
       "max      6.000000  1650.000000   59.000000   63.400000   68.000000   \n",
       "\n",
       "           Height       Width  \n",
       "count  159.000000  159.000000  \n",
       "mean     8.970994    4.417486  \n",
       "std      4.286208    1.685804  \n",
       "min      1.728400    1.047600  \n",
       "25%      5.944800    3.385650  \n",
       "50%      7.786000    4.248500  \n",
       "75%     12.365900    5.584500  \n",
       "max     18.957000    8.142000  "
      ]
     },
     "execution_count": 42,
     "metadata": {},
     "output_type": "execute_result"
    }
   ],
   "source": [
    "#desplegar la descripción del dataset\n",
    "df.describe()"
   ]
  },
  {
   "cell_type": "code",
   "execution_count": 44,
   "id": "fac02381",
   "metadata": {},
   "outputs": [
    {
     "data": {
      "text/html": [
       "<div>\n",
       "<style scoped>\n",
       "    .dataframe tbody tr th:only-of-type {\n",
       "        vertical-align: middle;\n",
       "    }\n",
       "\n",
       "    .dataframe tbody tr th {\n",
       "        vertical-align: top;\n",
       "    }\n",
       "\n",
       "    .dataframe thead th {\n",
       "        text-align: right;\n",
       "    }\n",
       "</style>\n",
       "<table border=\"1\" class=\"dataframe\">\n",
       "  <thead>\n",
       "    <tr style=\"text-align: right;\">\n",
       "      <th></th>\n",
       "      <th>Species</th>\n",
       "      <th>Weight</th>\n",
       "      <th>Length1</th>\n",
       "      <th>Length2</th>\n",
       "      <th>Length3</th>\n",
       "      <th>Height</th>\n",
       "      <th>Width</th>\n",
       "    </tr>\n",
       "  </thead>\n",
       "  <tbody>\n",
       "    <tr>\n",
       "      <th>0</th>\n",
       "      <td>0</td>\n",
       "      <td>242.0</td>\n",
       "      <td>23.2</td>\n",
       "      <td>25.4</td>\n",
       "      <td>30.0</td>\n",
       "      <td>11.5200</td>\n",
       "      <td>4.0200</td>\n",
       "    </tr>\n",
       "    <tr>\n",
       "      <th>1</th>\n",
       "      <td>0</td>\n",
       "      <td>290.0</td>\n",
       "      <td>24.0</td>\n",
       "      <td>26.3</td>\n",
       "      <td>31.2</td>\n",
       "      <td>12.4800</td>\n",
       "      <td>4.3056</td>\n",
       "    </tr>\n",
       "    <tr>\n",
       "      <th>2</th>\n",
       "      <td>0</td>\n",
       "      <td>340.0</td>\n",
       "      <td>23.9</td>\n",
       "      <td>26.5</td>\n",
       "      <td>31.1</td>\n",
       "      <td>12.3778</td>\n",
       "      <td>4.6961</td>\n",
       "    </tr>\n",
       "    <tr>\n",
       "      <th>3</th>\n",
       "      <td>0</td>\n",
       "      <td>363.0</td>\n",
       "      <td>26.3</td>\n",
       "      <td>29.0</td>\n",
       "      <td>33.5</td>\n",
       "      <td>12.7300</td>\n",
       "      <td>4.4555</td>\n",
       "    </tr>\n",
       "    <tr>\n",
       "      <th>4</th>\n",
       "      <td>0</td>\n",
       "      <td>430.0</td>\n",
       "      <td>26.5</td>\n",
       "      <td>29.0</td>\n",
       "      <td>34.0</td>\n",
       "      <td>12.4440</td>\n",
       "      <td>5.1340</td>\n",
       "    </tr>\n",
       "    <tr>\n",
       "      <th>5</th>\n",
       "      <td>0</td>\n",
       "      <td>450.0</td>\n",
       "      <td>26.8</td>\n",
       "      <td>29.7</td>\n",
       "      <td>34.7</td>\n",
       "      <td>13.6024</td>\n",
       "      <td>4.9274</td>\n",
       "    </tr>\n",
       "    <tr>\n",
       "      <th>6</th>\n",
       "      <td>0</td>\n",
       "      <td>500.0</td>\n",
       "      <td>26.8</td>\n",
       "      <td>29.7</td>\n",
       "      <td>34.5</td>\n",
       "      <td>14.1795</td>\n",
       "      <td>5.2785</td>\n",
       "    </tr>\n",
       "    <tr>\n",
       "      <th>7</th>\n",
       "      <td>0</td>\n",
       "      <td>390.0</td>\n",
       "      <td>27.6</td>\n",
       "      <td>30.0</td>\n",
       "      <td>35.0</td>\n",
       "      <td>12.6700</td>\n",
       "      <td>4.6900</td>\n",
       "    </tr>\n",
       "    <tr>\n",
       "      <th>8</th>\n",
       "      <td>0</td>\n",
       "      <td>450.0</td>\n",
       "      <td>27.6</td>\n",
       "      <td>30.0</td>\n",
       "      <td>35.1</td>\n",
       "      <td>14.0049</td>\n",
       "      <td>4.8438</td>\n",
       "    </tr>\n",
       "    <tr>\n",
       "      <th>9</th>\n",
       "      <td>0</td>\n",
       "      <td>500.0</td>\n",
       "      <td>28.5</td>\n",
       "      <td>30.7</td>\n",
       "      <td>36.2</td>\n",
       "      <td>14.2266</td>\n",
       "      <td>4.9594</td>\n",
       "    </tr>\n",
       "  </tbody>\n",
       "</table>\n",
       "</div>"
      ],
      "text/plain": [
       "   Species  Weight  Length1  Length2  Length3   Height   Width\n",
       "0        0   242.0     23.2     25.4     30.0  11.5200  4.0200\n",
       "1        0   290.0     24.0     26.3     31.2  12.4800  4.3056\n",
       "2        0   340.0     23.9     26.5     31.1  12.3778  4.6961\n",
       "3        0   363.0     26.3     29.0     33.5  12.7300  4.4555\n",
       "4        0   430.0     26.5     29.0     34.0  12.4440  5.1340\n",
       "5        0   450.0     26.8     29.7     34.7  13.6024  4.9274\n",
       "6        0   500.0     26.8     29.7     34.5  14.1795  5.2785\n",
       "7        0   390.0     27.6     30.0     35.0  12.6700  4.6900\n",
       "8        0   450.0     27.6     30.0     35.1  14.0049  4.8438\n",
       "9        0   500.0     28.5     30.7     36.2  14.2266  4.9594"
      ]
     },
     "execution_count": 44,
     "metadata": {},
     "output_type": "execute_result"
    }
   ],
   "source": [
    "#Ver los 10 registros con la variable species transformada\n",
    "df.head(10)"
   ]
  },
  {
   "cell_type": "markdown",
   "id": "93c30410",
   "metadata": {},
   "source": [
    "## Descripción de la fuente del Dataset"
   ]
  },
  {
   "cell_type": "markdown",
   "id": "db6174bc",
   "metadata": {},
   "source": [
    "El dataset presentado tiene 159 registros de tipos de peces para la venta en el mercado. El dataset cuenta con 6 columnas o atributos de los cuales se tiene como variable objetivo el peso de los peces **(weight)**. Y como variables de entrada se tienen las siguientes:\n",
    "\n",
    "**Variables independientes o variables de entrada X**\n",
    "\n",
    "**Species:** Variable Categórica, Nombre de cada especie a la que pertenecen los peces.\n",
    "\n",
    "**Length1:** Variable Continua, Longitud vertical en centímetros del pescado.\n",
    "\n",
    "**Length2:** Variable Continua, Longitud diagonal en centímetros del pescado.\n",
    "\n",
    "**Length3:** Variable Continua, Longitud de la cruz en centímetros del pescado.\n",
    "\n",
    "**Height:** Variable Continua, Altura en centímetros del pescado.\n",
    "\n",
    "**Width:** Variable Continua, Anchura diagonal en centímetros del pescado.\n",
    "\n",
    "\n",
    "**Variable dependiente o variable objetivo Y**\n",
    "\n",
    "**Weight:** Variable Continua, Peso en gramos de cada uno de los pescados."
   ]
  },
  {
   "cell_type": "markdown",
   "id": "7f868eab",
   "metadata": {},
   "source": [
    "## Explique el problema a resolver. \n",
    "\n",
    "Se pretende realizar un modelo de predicción en donde se requiere estimar a los peces con mejor peso. Se hará uso del dataset Fish el cual contiene 159 samples de cada atributo. Se tiene a la variable objetivo Weight y las variables de entrada que se van a utilizar en el proceso de regresión."
   ]
  },
  {
   "cell_type": "markdown",
   "id": "a0b719c1",
   "metadata": {},
   "source": [
    "## Caracterización del Dataset\n",
    "\n",
    "Realice una descripción de los datos con:\n",
    "\n",
    ">- Número de instancias en total.\n",
    ">- Número de atributos de entrada, su significado y tipo.\n",
    ">- Estadísticas de la variable objetivo.\n",
    ">- Estadísticas los atributos en relación con la variable objetivo.\n"
   ]
  },
  {
   "cell_type": "markdown",
   "id": "7c654833",
   "metadata": {},
   "source": [
    "**Número de instancias en total.**\n"
   ]
  },
  {
   "cell_type": "code",
   "execution_count": 6,
   "id": "c11c6279",
   "metadata": {},
   "outputs": [
    {
     "data": {
      "text/plain": [
       "Species    159\n",
       "Weight     159\n",
       "Length1    159\n",
       "Length2    159\n",
       "Length3    159\n",
       "Height     159\n",
       "Width      159\n",
       "dtype: int64"
      ]
     },
     "execution_count": 6,
     "metadata": {},
     "output_type": "execute_result"
    }
   ],
   "source": [
    "#Contrar los registros de los peces del dataset\n",
    "df.count()"
   ]
  },
  {
   "cell_type": "markdown",
   "id": "3c4e4006",
   "metadata": {},
   "source": [
    "**Número de atributos de entrada, su significado y tipo.**"
   ]
  },
  {
   "cell_type": "markdown",
   "id": "cf373d94",
   "metadata": {},
   "source": [
    "**Species:** Variable Categórica, Nombre de cada especie a la que pertenecen los peces.\n",
    "\n",
    "**Length1:** Variable Continua, Longitud vertical en centímetros del pescado.\n",
    "\n",
    "**Length2:** Variable Continua, Longitud diagonal en centímetros del pescado.\n",
    "\n",
    "**Length3:** Variable Continua, Longitud de la cruz en centímetros del pescado.\n",
    "\n",
    "**Height:** Variable Continua, Altura en centímetros del pescado.\n",
    "\n",
    "**Width:** Variable Continua, Anchura diagonal en centímetros del pescado."
   ]
  },
  {
   "cell_type": "code",
   "execution_count": 14,
   "id": "ca7cd0ba",
   "metadata": {},
   "outputs": [
    {
     "name": "stdout",
     "output_type": "stream",
     "text": [
      "<class 'pandas.core.frame.DataFrame'>\n",
      "RangeIndex: 159 entries, 0 to 158\n",
      "Data columns (total 6 columns):\n",
      " #   Column   Non-Null Count  Dtype  \n",
      "---  ------   --------------  -----  \n",
      " 0   Species  159 non-null    object \n",
      " 1   Length1  159 non-null    float64\n",
      " 2   Length2  159 non-null    float64\n",
      " 3   Length3  159 non-null    float64\n",
      " 4   Height   159 non-null    float64\n",
      " 5   Width    159 non-null    float64\n",
      "dtypes: float64(5), object(1)\n",
      "memory usage: 7.6+ KB\n"
     ]
    }
   ],
   "source": [
    "#Información relevante acerca del dataset\n",
    "df.drop('Weight', axis=1).info()"
   ]
  },
  {
   "cell_type": "markdown",
   "id": "c428ea72",
   "metadata": {},
   "source": [
    "**Estadísticas de la variable objetivo**"
   ]
  },
  {
   "cell_type": "code",
   "execution_count": 16,
   "id": "2f0ed5d2",
   "metadata": {},
   "outputs": [
    {
     "data": {
      "text/plain": [
       "<AxesSubplot:>"
      ]
     },
     "execution_count": 16,
     "metadata": {},
     "output_type": "execute_result"
    },
    {
     "data": {
      "image/png": "[encoded data removed]",
      "text/plain": [
       "<Figure size 432x288 with 1 Axes>"
      ]
     },
     "metadata": {
      "needs_background": "light"
     },
     "output_type": "display_data"
    }
   ],
   "source": [
    "#Habilitar el trazado de linea\n",
    "%matplotlib inline\n",
    "#Crear gráfico de barras como la variable objetivo (tipo) continua.\n",
    "df['Weight'].hist()"
   ]
  },
  {
   "cell_type": "markdown",
   "id": "a7ab5e48",
   "metadata": {},
   "source": [
    "Observamos que la variable de peso de los peces (weight) es adecuada porque contiene una curva y esta ligeramente sesgada a la derecha y tiene valores de los que pueden aprender.  "
   ]
  },
  {
   "cell_type": "markdown",
   "id": "6849b193",
   "metadata": {},
   "source": [
    "### Análisis exploratorio de datos"
   ]
  },
  {
   "cell_type": "markdown",
   "id": "19074527",
   "metadata": {},
   "source": [
    ">- Variables categóricas: gráfico de barras\n",
    ">- Variables continuas: Histograma"
   ]
  },
  {
   "cell_type": "markdown",
   "id": "7c23fa38",
   "metadata": {},
   "source": [
    "#### Visualización la distribución de todas las variables de entrada categóricas mediante diagramas de barras"
   ]
  },
  {
   "cell_type": "code",
   "execution_count": 45,
   "id": "4fa30f61",
   "metadata": {},
   "outputs": [
    {
     "data": {
      "text/plain": [
       "Species      7\n",
       "Weight     101\n",
       "Length1    116\n",
       "Length2     93\n",
       "Length3    124\n",
       "Height     154\n",
       "Width      152\n",
       "dtype: int64"
      ]
     },
     "execution_count": 45,
     "metadata": {},
     "output_type": "execute_result"
    }
   ],
   "source": [
    "#Vamos a observar los atribbutos que tienen nulos e identificar a los categoricos\n",
    "df.nunique()"
   ]
  },
  {
   "cell_type": "markdown",
   "id": "2efe8fe2",
   "metadata": {},
   "source": [
    "Podemos observar que tenemos una sola variable categórica la cual es Species, esto lo deducimos porque realizamos un cambio mediante LabelEncoding. Además podemos deducir que una variable categorica tiene valores muy bajos.  "
   ]
  },
  {
   "cell_type": "code",
   "execution_count": 53,
   "id": "c1af4e96",
   "metadata": {},
   "outputs": [],
   "source": [
    "#Plotting de múltiples gráficos de barras a la vez para variables categóricas.\n",
    "#Dado que no existe una función predeterminada que pueda trazar gráficos de barras para varias columnas a la vez, \n",
    "#estamos definiendo nuestra propia función para la misma.\n",
    "def PlotBarCharts(inpData, colsToPlot):\n",
    "    \n",
    "    '''\n",
    "    Método para realizar gráficos de barras de varios datos.\n",
    "    '''\n",
    "    #Establece el trazado de linea\n",
    "    %matplotlib inline\n",
    "    #Libreria para realizar el gráfico\n",
    "    import matplotlib.pyplot as plt\n",
    "    \n",
    "    # Generating multiple subplots\n",
    "    fig, subPlot=plt.subplots(nrows=1, ncols=len(colsToPlot), figsize=(20,5))\n",
    "    #Titulo o leyenda para el gráfico\n",
    "    fig.suptitle('Bar charts of: '+ str(colsToPlot))\n",
    "    #Grafico escalado de barras\n",
    "    for colName, plotNumber in zip(colsToPlot, range(len(colsToPlot))):\n",
    "        inpData.groupby(colName).size().plot(kind='bar',ax=subPlot[plotNumber])"
   ]
  },
  {
   "cell_type": "code",
   "execution_count": 57,
   "id": "25226989",
   "metadata": {},
   "outputs": [
    {
     "data": {
      "image/png": "[encoded data removed]",
      "text/plain": [
       "<Figure size 1440x360 with 2 Axes>"
      ]
     },
     "metadata": {
      "needs_background": "light"
     },
     "output_type": "display_data"
    }
   ],
   "source": [
    "#Funcion para graficar\n",
    "PlotBarCharts(inpData=df, colsToPlot=['Species', 'Species'])"
   ]
  },
  {
   "cell_type": "markdown",
   "id": "af015268",
   "metadata": {},
   "source": [
    "# Interpretación:\n",
    "Como tenemos solo una variable categórica, al momento de comparar se requiere de dos variables categóricas. Repetimos la variable para poder comparar correctamente y observamos las 7 barras de cada especie de peces. \n"
   ]
  },
  {
   "cell_type": "markdown",
   "id": "6cadad56",
   "metadata": {},
   "source": [
    "### Visualizar la distribución de todas las variables continuas usando histogramas"
   ]
  },
  {
   "cell_type": "code",
   "execution_count": 59,
   "id": "57faa5eb",
   "metadata": {},
   "outputs": [
    {
     "data": {
      "text/plain": [
       "array([[<AxesSubplot:title={'center':'Weight'}>,\n",
       "        <AxesSubplot:title={'center':'Width'}>],\n",
       "       [<AxesSubplot:title={'center':'Height'}>,\n",
       "        <AxesSubplot:title={'center':'Length3'}>],\n",
       "       [<AxesSubplot:title={'center':'Length2'}>,\n",
       "        <AxesSubplot:title={'center':'Length1'}>]], dtype=object)"
      ]
     },
     "execution_count": 59,
     "metadata": {},
     "output_type": "execute_result"
    },
    {
     "data": {
      "image/png": "[encoded data removed]",
      "text/plain": [
       "<Figure size 1296x720 with 6 Axes>"
      ]
     },
     "metadata": {
      "needs_background": "light"
     },
     "output_type": "display_data"
    }
   ],
   "source": [
    "# Plotting histogramas de múltiples columnas juntas\n",
    "df.hist(['Weight','Width','Height','Length3','Length2','Length1'], figsize=(18,10))"
   ]
  },
  {
   "cell_type": "markdown",
   "id": "4a7b39ee",
   "metadata": {},
   "source": [
    "**Interpretación:**\n",
    "\n",
    "El eje X muestra el rango de valores y el eje Y representa el número de valores en ese rango. Por ejemplo, en el histograma anterior de 'Weight' tiene de 60 filas.\n",
    "\n",
    "Deducimos que los histogramas tienen cierta similitud ya que se asemejan en sus valores de filas.\n",
    "\n",
    "\n",
    "Variables continuas seleccionadas:\n",
    "\n",
    "     Weight: Seleccionado. La distribución es buena.\n",
    "     Width: Seleccionado. La distribución es buena.\n",
    "     Height: Seleccionado. La distribución es buena.\n",
    "     Length3: Seleccionado. La distribución es buena. \n",
    "     Length2: Seleccionado. La distribución es buena. \n",
    "     Length1: Seleccionado. La distribución es buena. \n",
    "\n"
   ]
  },
  {
   "cell_type": "markdown",
   "id": "067e8366",
   "metadata": {},
   "source": [
    "### Exploración de relaciones: Continuo Vs Continuo -- Scatter Charts (Gráficos de dispersión)"
   ]
  },
  {
   "cell_type": "markdown",
   "id": "0a19e6af",
   "metadata": {},
   "source": [
    "## Preprocesamiento del dataset. Transformaciones previas necesarias para la modelación"
   ]
  },
  {
   "cell_type": "code",
   "execution_count": 4,
   "id": "5a24dac4",
   "metadata": {},
   "outputs": [],
   "source": [
    "#Transformación de las caracteristicas (mire el apartado Feature engineering del aula virtual)\n"
   ]
  },
  {
   "cell_type": "markdown",
   "id": "49815fde",
   "metadata": {
    "ExecuteTime": {
     "end_time": "2022-03-14T15:56:34.366469Z",
     "start_time": "2022-03-14T15:56:34.358471Z"
    }
   },
   "source": [
    "## División del dataset en datos de entrenamiento y datos de test "
   ]
  },
  {
   "cell_type": "code",
   "execution_count": 5,
   "id": "6f26d21e",
   "metadata": {},
   "outputs": [],
   "source": [
    "#Código que realice la división en entrenamiento y test, de acuerdo con la estretgia de evaluación planeada. Describa cuál es.\n"
   ]
  },
  {
   "cell_type": "markdown",
   "id": "6319adad",
   "metadata": {},
   "source": [
    "## Regresión Lineal"
   ]
  },
  {
   "cell_type": "code",
   "execution_count": 6,
   "id": "d5d2b2c6",
   "metadata": {},
   "outputs": [],
   "source": [
    "#Códo del modelo"
   ]
  },
  {
   "cell_type": "code",
   "execution_count": 7,
   "id": "33f5be2a",
   "metadata": {
    "ExecuteTime": {
     "end_time": "2022-04-25T07:21:39.020596Z",
     "start_time": "2022-04-25T07:21:39.005596Z"
    }
   },
   "outputs": [],
   "source": [
    "#Entrenamiento"
   ]
  },
  {
   "cell_type": "code",
   "execution_count": 8,
   "id": "a2e675b3",
   "metadata": {},
   "outputs": [],
   "source": [
    "#Test"
   ]
  },
  {
   "cell_type": "markdown",
   "id": "9c2239f5",
   "metadata": {},
   "source": [
    "## Evaluación del Modelo"
   ]
  },
  {
   "cell_type": "markdown",
   "id": "ad219a0c",
   "metadata": {},
   "source": [
    "Construya un o dos párrafos con los principales hallazgos. Cómo está funcionando el modelo? Calidad en los resultados de predicción. "
   ]
  },
  {
   "cell_type": "code",
   "execution_count": null,
   "id": "28b14a2f",
   "metadata": {},
   "outputs": [],
   "source": []
  }
 ],
 "metadata": {
  "kernelspec": {
   "display_name": "Python 3 (ipykernel)",
   "language": "python",
   "name": "python3"
  },
  "language_info": {
   "codemirror_mode": {
    "name": "ipython",
    "version": 3
   },
   "file_extension": ".py",
   "mimetype": "text/x-python",
   "name": "python",
   "nbconvert_exporter": "python",
   "pygments_lexer": "ipython3",
   "version": "3.9.12"
  },
  "toc": {
   "base_numbering": 1,
   "nav_menu": {},
   "number_sections": true,
   "sideBar": true,
   "skip_h1_title": true,
   "title_cell": "Tabla de Contenido",
   "title_sidebar": "Contenido",
   "toc_cell": false,
   "toc_position": {
    "height": "calc(100% - 180px)",
    "left": "10px",
    "top": "150px",
    "width": "263.591px"
   },
   "toc_section_display": true,
   "toc_window_display": true
  }
 },
 "nbformat": 4,
 "nbformat_minor": 5
}
